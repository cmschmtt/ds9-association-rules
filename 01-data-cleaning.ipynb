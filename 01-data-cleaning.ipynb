{
 "cells": [
  {
   "cell_type": "markdown",
   "id": "81fb8172-ceb3-465b-a87f-eb3a2271b6ec",
   "metadata": {},
   "source": [
    "# 1. Data cleaning\n",
    "\n",
    "In this notebook we correct typos and formatting errors in the original scripts, and we generate a JSON file with speakers and line counts for each episode and act."
   ]
  },
  {
   "cell_type": "markdown",
   "id": "a65c595c-e033-418d-b1c3-913abca6ed9e",
   "metadata": {},
   "source": [
    "## Imports"
   ]
  },
  {
   "cell_type": "code",
   "execution_count": 1,
   "id": "54bfe533-7d8e-4b0a-8fe6-425695cc71a8",
   "metadata": {},
   "outputs": [
    {
     "data": {
      "text/plain": [
       "<module 'preprocessing' from 'C:\\\\Users\\\\carys\\\\ds9-markov-master\\\\ds9-association-rules\\\\preprocessing.py'>"
      ]
     },
     "execution_count": 1,
     "metadata": {},
     "output_type": "execute_result"
    }
   ],
   "source": [
    "# libraries\n",
    "from importlib import reload\n",
    "\n",
    "import json\n",
    "import os\n",
    "import preprocessing as pre\n",
    "\n",
    "# for simultaneous work on preprocessing.py\n",
    "reload(pre)"
   ]
  },
  {
   "cell_type": "code",
   "execution_count": 2,
   "id": "358f14f7-9b7c-498d-b96b-a867ea7ac49f",
   "metadata": {},
   "outputs": [],
   "source": [
    "# list of all .txt files in scripts\n",
    "files = os.listdir('scripts')\n",
    "files = [f for f in files if f.endswith('.txt')]"
   ]
  },
  {
   "cell_type": "markdown",
   "id": "06dd1cf8-41f4-49d1-ae12-cd74c5075906",
   "metadata": {},
   "source": [
    "### Attempting conversions\n",
    "\n",
    "After making changes detailed below, this code should run without error:"
   ]
  },
  {
   "cell_type": "code",
   "execution_count": 3,
   "id": "f2041e15-f989-4018-993d-ac5561794903",
   "metadata": {},
   "outputs": [
    {
     "data": {
      "text/plain": [
       "(173, 173)"
      ]
     },
     "execution_count": 3,
     "metadata": {},
     "output_type": "execute_result"
    }
   ],
   "source": [
    "# attempting to process every file in scripts\n",
    "# if any error we should see it here.\n",
    "speaker_dicts = []\n",
    "for f in files:\n",
    "    try:\n",
    "        d = pre.process_episode(f)\n",
    "        speaker_dicts.append(d)\n",
    "    except:\n",
    "        print(f\"error: {f}\")\n",
    "\n",
    "len(files), len(speaker_dicts)"
   ]
  },
  {
   "cell_type": "code",
   "execution_count": 4,
   "id": "285400b8-fe73-4256-bcc3-891a49e04172",
   "metadata": {},
   "outputs": [],
   "source": [
    "# this is a silly way to structure things but it works for now.\n",
    "export_dict = {k: v for k, v in zip(files, speaker_dicts)}\n",
    "\n",
    "with open('speakers.json', 'w') as f:\n",
    "    json.dump(export_dict, f)"
   ]
  },
  {
   "cell_type": "markdown",
   "id": "9b21ee34-5318-49cf-98f6-847931e7fe06",
   "metadata": {},
   "source": [
    "## Manual editing\n",
    "\n",
    "We observed errors on the following files:\n",
    "\n",
    "```\n",
    "error: 429.txt\n",
    "error: 457.txt\n",
    "error: 474.txt\n",
    "error: 483.txt\n",
    "error: 499.txt\n",
    "error: 507.txt\n",
    "error: 546.txt\n",
    "```\n",
    "\n",
    "These were the issues in each file:\n",
    "\n",
    "- episode 429: missing ACT TWO -- typo; ACT THREE was duplicated. corrected manually (original file backed up as 429-original)\n",
    "- episode 457: IndexError from a probably blank multi-tab line that triggered an error in `line_starts_with_only_n`. added a `try/except IndexError` to handle.\n",
    "- episode 474: resolved by above\n",
    "- episode 483: missing ACT ONE. added manually; original file backed up as 483-original\n",
    "- episode 499: likely resolved by IndexError\n",
    "- episode 507: missing ACT TWO given as \"ACT TWO,\" -- removed comma. original backed up as per above.\n",
    "- episode 546: missing ACT FOUR; given as \"ACT. FOUR\" -- corrected. original backed up as per above.\n",
    "\n",
    "After corrections were made, the we can generate the JSON above without error."
   ]
  }
 ],
 "metadata": {
  "kernelspec": {
   "display_name": "Python 3 (ipykernel)",
   "language": "python",
   "name": "python3"
  },
  "language_info": {
   "codemirror_mode": {
    "name": "ipython",
    "version": 3
   },
   "file_extension": ".py",
   "mimetype": "text/x-python",
   "name": "python",
   "nbconvert_exporter": "python",
   "pygments_lexer": "ipython3",
   "version": "3.8.8"
  }
 },
 "nbformat": 4,
 "nbformat_minor": 5
}
