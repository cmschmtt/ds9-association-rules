{
 "cells": [
  {
   "cell_type": "markdown",
   "id": "93309f49-9ad4-486b-a427-274bdc90f1a7",
   "metadata": {},
   "source": [
    "# 2. Association rules\n",
    "\n",
    "Rules time! And time to reckon with the decisions I made for how to store data.\n",
    "\n",
    "I'm riffing on the usual shopping basket approach -- I'll be treating each act as a receipt, and each speaker as an item.\n",
    "\n",
    "---\n",
    "\n",
    "## Imports"
   ]
  },
  {
   "cell_type": "code",
   "execution_count": 15,
   "id": "ee9c22c7-c27d-4ee2-9905-357d8a691017",
   "metadata": {},
   "outputs": [],
   "source": [
    "import json\n",
    "import matplotlib.pyplot as plt\n",
    "import pandas as pd\n",
    "from collections import Counter, defaultdict\n",
    "\n",
    "with open('speakers.json', 'r') as f:\n",
    "    d = json.load(f)\n",
    "\n",
    "# h/t chatgpt I did not want to type all this out again.\n",
    "records = []\n",
    "for episode, content in d.items():\n",
    "    for segment, counts in content.items():\n",
    "        record = {'segment': segment}\n",
    "        record.update(counts)\n",
    "        records.append(record)\n",
    "\n",
    "speaker_df = pd.DataFrame(records).fillna(0).set_index('segment').astype(int)"
   ]
  },
  {
   "cell_type": "code",
   "execution_count": null,
   "id": "074270e2-82d8-42c9-8374-0ef0d199ea6b",
   "metadata": {},
   "outputs": [],
   "source": []
  },
  {
   "cell_type": "code",
   "execution_count": 10,
   "id": "1d08f3be-a2a1-4e74-beeb-80d56015845e",
   "metadata": {},
   "outputs": [],
   "source": [
    "# pd.DataFrame([d[each] for each in d])"
   ]
  },
  {
   "cell_type": "code",
   "execution_count": 2,
   "id": "ad4207cd-2096-43ab-8435-a2cf03db55e7",
   "metadata": {},
   "outputs": [],
   "source": [
    "eps = list(d.keys())"
   ]
  },
  {
   "cell_type": "code",
   "execution_count": 3,
   "id": "ddceab85-fb00-4d85-8444-5c102a67a6b9",
   "metadata": {},
   "outputs": [
    {
     "data": {
      "text/plain": [
       "dict_keys(['404_teaser', '404_act_1', '404_act_2', '404_act_3', '404_act_4', '404_act_5'])"
      ]
     },
     "execution_count": 3,
     "metadata": {},
     "output_type": "execute_result"
    }
   ],
   "source": [
    "d['404.txt'].keys()"
   ]
  },
  {
   "cell_type": "code",
   "execution_count": 31,
   "id": "110d161f-29b3-477f-8865-0646606b8c88",
   "metadata": {},
   "outputs": [
    {
     "data": {
      "text/plain": [
       "True"
      ]
     },
     "execution_count": 31,
     "metadata": {},
     "output_type": "execute_result"
    }
   ],
   "source": [
    "'GARAK' in d['404.txt']['404_teaser']"
   ]
  },
  {
   "cell_type": "code",
   "execution_count": 32,
   "id": "508cd705-69ee-49d4-9841-9d3b26120311",
   "metadata": {},
   "outputs": [],
   "source": [
    "# for ep in d:\n",
    "#     for act in d[ep]:\n",
    "#         print(d[ep][act])"
   ]
  },
  {
   "cell_type": "code",
   "execution_count": 33,
   "id": "c27e8532-648c-49a0-bcc7-f40ce00e9d92",
   "metadata": {},
   "outputs": [],
   "source": [
    "for ep in d:\n",
    "    for act in d[ep]:\n",
    "        if 'GARAK,' in d[ep][act].keys():\n",
    "            print(d[ep][act].keys())"
   ]
  },
  {
   "cell_type": "markdown",
   "id": "8f18ef3a-cbc3-4e00-94d7-7c821a775d6f",
   "metadata": {},
   "source": [
    "### could...\n",
    "\n",
    "loop over dictionaries, make sets per episode of characters who show up, then count how often they show up in each episode set\n",
    "\n",
    "for characters like MULLIBOK and OLD JAKE -- helps me identify one-offs with lots of dialog"
   ]
  },
  {
   "cell_type": "code",
   "execution_count": 34,
   "id": "4fffa57b-cfeb-4ecd-b8e4-f6f7bf0678b3",
   "metadata": {},
   "outputs": [],
   "source": [
    "ep_ds = []\n",
    "for k, v in d.items():\n",
    "    ep_ds.append([v for k, v in d[k].items()])"
   ]
  },
  {
   "cell_type": "code",
   "execution_count": null,
   "id": "2841a727-3758-4b1c-ab37-7ba2fa4cbb41",
   "metadata": {},
   "outputs": [],
   "source": []
  },
  {
   "cell_type": "code",
   "execution_count": 35,
   "id": "7e6e31fb-5376-4286-9b61-a60d69ea0200",
   "metadata": {},
   "outputs": [],
   "source": [
    "def speakers_from_ep(ep_list):\n",
    "    ep_speakers = []\n",
    "    for each in ep_list:\n",
    "        ep_speakers.extend(list(each.keys()))\n",
    "    return ep_speakers"
   ]
  },
  {
   "cell_type": "code",
   "execution_count": 36,
   "id": "ca0a18d8-d461-4e29-a5fa-94bc1e8f2bca",
   "metadata": {},
   "outputs": [],
   "source": [
    "ep_speaker_lists = [speakers_from_ep(each) for each in ep_ds]"
   ]
  },
  {
   "cell_type": "code",
   "execution_count": 37,
   "id": "ff1e161a-6a6b-4c49-9bb7-f1768b16ed2c",
   "metadata": {},
   "outputs": [],
   "source": [
    "ep_speaker_counters = [Counter(each) for each in ep_speaker_lists]"
   ]
  },
  {
   "cell_type": "code",
   "execution_count": 38,
   "id": "331e29c8-00c0-4f30-872e-faefeef2b503",
   "metadata": {},
   "outputs": [
    {
     "data": {
      "text/plain": [
       "[]"
      ]
     },
     "execution_count": 38,
     "metadata": {},
     "output_type": "execute_result"
    }
   ],
   "source": [
    "[each for each in ep_speaker_counters if 'GARAK, ' in each.keys()]"
   ]
  },
  {
   "cell_type": "code",
   "execution_count": 39,
   "id": "5c6a9194-d16b-4b35-8951-7a827f29ef10",
   "metadata": {},
   "outputs": [],
   "source": [
    "ep_speaker_sums = defaultdict(int)\n",
    "for counter in ep_speaker_counters:\n",
    "    for k, v in counter.items():\n",
    "        if (',' in k) and (len(k) > 5):\n",
    "            print(k)\n",
    "        ep_speaker_sums[k] += 1"
   ]
  },
  {
   "cell_type": "code",
   "execution_count": 40,
   "id": "0ef397e4-6fc0-49e4-ac7f-18d19560575a",
   "metadata": {},
   "outputs": [],
   "source": [
    "speaker_act_appearances = pd.Series(ep_speaker_sums)\n",
    "speaker_act_appearances = speaker_act_appearances.sort_values(ascending=False)"
   ]
  },
  {
   "cell_type": "markdown",
   "id": "e5dec630-f6b0-4374-8e67-61eca8fe88b6",
   "metadata": {},
   "source": [
    "in this step I discovered:\n",
    "- (\"O'BRIEN\", \"0'BRIEN\")\n",
    "- empty strings (replaced with \"blank\")\n",
    "\n",
    "- I should definitely just be upper-casing everything\n",
    "definitely some further work to do with matching names... VIC/Vic/Fontaine..."
   ]
  },
  {
   "cell_type": "code",
   "execution_count": 51,
   "id": "a69f99c0-cc56-4dfd-bb2c-34c0b69e4e47",
   "metadata": {},
   "outputs": [
    {
     "data": {
      "text/plain": [
       "VIC    8\n",
       "Vic    3\n",
       "dtype: int64"
      ]
     },
     "execution_count": 51,
     "metadata": {},
     "output_type": "execute_result"
    }
   ],
   "source": [
    "speaker_act_appearances[speaker_act_appearances.index.str.lower().str.contains('vic')]"
   ]
  },
  {
   "cell_type": "code",
   "execution_count": 52,
   "id": "4da6e057-7a63-4453-867f-5cc78307bc5e",
   "metadata": {},
   "outputs": [
    {
     "data": {
      "text/plain": [
       "Series([], dtype: int64)"
      ]
     },
     "execution_count": 52,
     "metadata": {},
     "output_type": "execute_result"
    }
   ],
   "source": [
    "speaker_act_appearances[speaker_act_appearances.index.str.lower().str.contains('font')]"
   ]
  },
  {
   "cell_type": "code",
   "execution_count": null,
   "id": "c068b14d-8785-4dcc-8985-e112467dd374",
   "metadata": {},
   "outputs": [],
   "source": [
    "# just search speakers.json for this\n",
    "# GARAX????????????\n",
    "# in 492_act_5\n",
    "\n",
    "# KIRA Come in. \n",
    "# WEYOUN I'm glad.\n",
    "\n",
    "# GAPAK in 497_act_4"
   ]
  },
  {
   "cell_type": "code",
   "execution_count": null,
   "id": "e0a09199-f7cd-445a-9a1c-b5547bdd6be7",
   "metadata": {},
   "outputs": [],
   "source": [
    "# GARAX, GAPAX"
   ]
  },
  {
   "cell_type": "code",
   "execution_count": null,
   "id": "15033522-d46b-4294-b90f-f2e40c2f9ee3",
   "metadata": {},
   "outputs": [],
   "source": [
    "# write to csv later"
   ]
  },
  {
   "cell_type": "code",
   "execution_count": 63,
   "id": "f1a4abd4-6471-4ae4-9110-47d94c1bd422",
   "metadata": {},
   "outputs": [
    {
     "data": {
      "text/plain": [
       "JADZIA                  1\n",
       "ODO WORF AND O'BRIEN    1\n",
       "DRUNKEN KLINGON         1\n",
       "TOWERING KLINGON        1\n",
       "RICHARD                 1\n",
       "HEAD GUARD              1\n",
       "GINT                    1\n",
       "VIRA-KIKARA             1\n",
       "(agreeing)              1\n",
       "ATTENDANT               1\n",
       "ANSLEM                  1\n",
       "by Jake Sisko           1\n",
       "BRATHAW                 1\n",
       "OPERATIVE               1\n",
       "NORVA                   1\n",
       "INFIRMARY COM VOICE     1\n",
       "JESSICA                 1\n",
       "EPRAN                   1\n",
       "BASHIR AND O'BRIEN      1\n",
       "(To Toman'torax)        1\n",
       "PATIENT                 1\n",
       "TREVEAN                 1\n",
       "EKORIA                  1\n",
       "LATIA                   1\n",
       "OMET'IKLAN              1\n",
       "dtype: int64"
      ]
     },
     "execution_count": 63,
     "metadata": {},
     "output_type": "execute_result"
    }
   ],
   "source": [
    "speaker_act_appearances[300:325]"
   ]
  },
  {
   "cell_type": "code",
   "execution_count": 16,
   "id": "26626f8a-cc81-4710-807c-31b0c9fa278b",
   "metadata": {},
   "outputs": [
    {
     "data": {
      "text/plain": [
       "(\"O'BRIEN\", \"0'BRIEN\")"
      ]
     },
     "execution_count": 16,
     "metadata": {},
     "output_type": "execute_result"
    }
   ],
   "source": [
    "speaker_act_appearances.index[5], speaker_act_appearances.index[50]"
   ]
  },
  {
   "cell_type": "code",
   "execution_count": 17,
   "id": "021445ac-dba9-4183-b593-6fe4cb4b5534",
   "metadata": {},
   "outputs": [
    {
     "data": {
      "text/plain": [
       "True"
      ]
     },
     "execution_count": 17,
     "metadata": {},
     "output_type": "execute_result"
    }
   ],
   "source": [
    "speaker_act_appearances.index[23] == ''"
   ]
  },
  {
   "cell_type": "code",
   "execution_count": 18,
   "id": "4c8e94fe-4e3c-4273-8c2d-32105a7cbe28",
   "metadata": {},
   "outputs": [
    {
     "data": {
      "text/plain": [
       "0'BRIEN              4\n",
       "TAIN                 4\n",
       "LWAXANA              3\n",
       "WOMAN                3\n",
       "CUT TO:              3\n",
       "KOR                  3\n",
       "KLINGON              3\n",
       "ROMULAN              3\n",
       "MILA                 3\n",
       "SLOAN                3\n",
       "SHAKAAR              3\n",
       "Vic                  3\n",
       "ODO ALIEN            3\n",
       "MALE VOICE           3\n",
       "FUREL                3\n",
       "JAKE ALIEN           3\n",
       "RUSOT                3\n",
       "SOLBOR               3\n",
       "SARAH PROPHET        3\n",
       "SISKO ALIEN          3\n",
       "MUNIZ                3\n",
       "JENNIFER             3\n",
       "JARO                 3\n",
       "JEM'HADAR SOLDIER    3\n",
       "CRETAK               3\n",
       "BAJORAN OFFICER      3\n",
       "LI                   3\n",
       "CARDASSIAN           3\n",
       "FEMALE COM VOICE     3\n",
       "FALA                 2\n",
       "INTENDANT            2\n",
       "IKAT'IKA             2\n",
       "MAN                  2\n",
       "SIRELLA              2\n",
       "OPAKA                2\n",
       "JACK                 2\n",
       "WHATLEY              2\n",
       "BENNY                2\n",
       "DEPUTY               2\n",
       "SECURITY OFFICER     2\n",
       "INTERCUT:            2\n",
       "MORA                 2\n",
       "B.C.                 2\n",
       "HAZAR                2\n",
       "LEE                  2\n",
       "BASHIR ALIEN         2\n",
       "CHRIS                2\n",
       "KRIM                 2\n",
       "BERNARDO             2\n",
       "VIN                  2\n",
       "dtype: int64"
      ]
     },
     "execution_count": 18,
     "metadata": {},
     "output_type": "execute_result"
    }
   ],
   "source": [
    "speaker_act_appearances[50:100]"
   ]
  },
  {
   "cell_type": "code",
   "execution_count": null,
   "id": "d837acc4-afbf-448d-9e48-0bb9379c6ee8",
   "metadata": {},
   "outputs": [],
   "source": []
  },
  {
   "cell_type": "code",
   "execution_count": null,
   "id": "e3e2e239-1e74-4d89-9258-78cff1ff5e67",
   "metadata": {},
   "outputs": [],
   "source": []
  },
  {
   "cell_type": "code",
   "execution_count": null,
   "id": "b9f9c4f2-b1cf-4882-8218-91606dad1ff4",
   "metadata": {},
   "outputs": [],
   "source": []
  },
  {
   "cell_type": "code",
   "execution_count": 19,
   "id": "8d1044a4-16cb-446f-81ce-7cb5e2e335e5",
   "metadata": {},
   "outputs": [],
   "source": [
    "speaker_ds = []\n",
    "\n",
    "for k, v in d.items():\n",
    "    for act, speakers in v.items():\n",
    "        speaker_ds.append(speakers)"
   ]
  },
  {
   "cell_type": "code",
   "execution_count": 20,
   "id": "4ccda141-ffc0-4fe0-8744-6c9bd1886b12",
   "metadata": {},
   "outputs": [],
   "source": [
    "from collections import defaultdict"
   ]
  },
  {
   "cell_type": "markdown",
   "id": "3466f4e5-3f1a-4201-abbe-6f0a027d4b5c",
   "metadata": {},
   "source": [
    "## identifying one-off and very minor characters\n",
    "- if a character has fewer than "
   ]
  },
  {
   "cell_type": "code",
   "execution_count": 21,
   "id": "72ce0698-d1a6-4f68-a8e0-09bf15b482c8",
   "metadata": {},
   "outputs": [],
   "source": [
    "all_speakers_dict = defaultdict(int)\n",
    "for d in speaker_ds:\n",
    "    for k, v in d.items():\n",
    "        all_speakers_dict[k] += v"
   ]
  },
  {
   "cell_type": "code",
   "execution_count": 22,
   "id": "43096523-a343-40ce-bbc4-3bf8ffdfe5a6",
   "metadata": {},
   "outputs": [],
   "source": [
    "speakers = pd.Series(all_speakers_dict)"
   ]
  },
  {
   "cell_type": "code",
   "execution_count": 23,
   "id": "4f60a3a4-34ff-40bb-a558-4ad0f14746f1",
   "metadata": {},
   "outputs": [],
   "source": [
    "sorted_speakers = speakers.sort_values(ascending=False).index"
   ]
  },
  {
   "cell_type": "code",
   "execution_count": 24,
   "id": "2bd01aa3-6920-4f96-a6b6-81ae08e1c870",
   "metadata": {},
   "outputs": [
    {
     "data": {
      "text/plain": [
       "SISKO                                9398\n",
       "KIRA                                 5846\n",
       "BASHIR                               5497\n",
       "O'BRIEN                              5276\n",
       "QUARK                                5116\n",
       "                                     ... \n",
       "TROOPER                                 1\n",
       "(FORMERLY SCENE 35)                     1\n",
       "OM                                      1\n",
       "KUDKA'ETAN                              1\n",
       "DISSOLVE INTO A MONTAGE SEQUENCE:       1\n",
       "Length: 911, dtype: int64"
      ]
     },
     "execution_count": 24,
     "metadata": {},
     "output_type": "execute_result"
    }
   ],
   "source": [
    "speakers.sort_values(ascending=False)"
   ]
  },
  {
   "cell_type": "code",
   "execution_count": 25,
   "id": "406cde97-3ccc-41eb-8f4b-3715b73578ca",
   "metadata": {},
   "outputs": [
    {
     "data": {
      "text/plain": [
       "Index(['SISKO', 'KIRA', 'BASHIR', 'O'BRIEN', 'QUARK', 'ODO', 'DAX', 'WORF',\n",
       "       'GARAK', 'JAKE', 'NOG', 'ROM', 'DUKAT', 'EZRI', 'WINN', 'WEYOUN',\n",
       "       'MARTOK', 'KEIKO', 'DAMAR', 'ZEK', 'KASIDY', 'VIC', 'BAREIL',\n",
       "       'COMPUTER VOICE', 'EDDINGTON', 'FEMALE SHAPE-SHIFTER', 'KOR', 'SLOAN',\n",
       "       'JOSEPH', 'ISHKA', 'BRUNT', 'LEETA', 'GUL DUKAT', 'ROSS', 'LWAXANA',\n",
       "       'MORA', 'BILBY', 'ZIYAL', 'JACK', 'SHAKAAR', 'TAIN', 'ARISSA', 'GHEMOR',\n",
       "       'JENNIFER', 'MELORA', 'CH'POK', 'NATIMA', 'GOWRON', 'MARTUS', 'PEL',\n",
       "       'JORAN', 'ARJIN', 'BENNY', 'MULLIBOK', 'CHANGELING', 'RIKER', 'GAILA',\n",
       "       'OLD JAKE', 'VASH', 'LEYTON', 'INTENDANT', 'CRODEN', 'HUDSON', 'HANEEK',\n",
       "       'MARRITZA', 'LENARA', 'B.C.', 'DERAL', 'WATTERS', 'MOLLY', 'TOSK',\n",
       "       'LISA', 'GORAN'AGAR', 'GRILKA', 'LI'],\n",
       "      dtype='object')"
      ]
     },
     "execution_count": 25,
     "metadata": {},
     "output_type": "execute_result"
    }
   ],
   "source": [
    "sorted_speakers[:75]"
   ]
  },
  {
   "cell_type": "code",
   "execution_count": 26,
   "id": "b3a2c65b-9c46-419f-9efc-61891c76e070",
   "metadata": {},
   "outputs": [
    {
     "ename": "NameError",
     "evalue": "name 'speaker_sets' is not defined",
     "output_type": "error",
     "traceback": [
      "\u001b[1;31m---------------------------------------------------------------------------\u001b[0m",
      "\u001b[1;31mNameError\u001b[0m                                 Traceback (most recent call last)",
      "Input \u001b[1;32mIn [26]\u001b[0m, in \u001b[0;36m<cell line: 1>\u001b[1;34m()\u001b[0m\n\u001b[1;32m----> 1\u001b[0m \u001b[43mspeaker_sets\u001b[49m[:\u001b[38;5;241m5\u001b[39m]\n",
      "\u001b[1;31mNameError\u001b[0m: name 'speaker_sets' is not defined"
     ]
    }
   ],
   "source": [
    "speaker_sets[:5]"
   ]
  },
  {
   "cell_type": "code",
   "execution_count": null,
   "id": "15d7bd12-89db-435f-b127-c292dccd4ee5",
   "metadata": {},
   "outputs": [],
   "source": [
    "# d_subset = [v for k, v in d.items()]\n",
    "# d_subset = [list(each.values()) for each in d_subset[:3]]\n",
    "# d_subset[0]"
   ]
  },
  {
   "cell_type": "code",
   "execution_count": null,
   "id": "5108121e-bdb7-494f-8ba7-5d7a1241c17b",
   "metadata": {},
   "outputs": [],
   "source": [
    "# def speakers_from_ep(d, append_to):\n",
    "#     ep_speakers = []\n",
    "#     # accepts a dictionary, we get back a simple speakers list.\n",
    "#     # i might want to filter these first, but let's worry about that later.\n",
    "#     for key in d:\n",
    "#         act_speakers = list(d[key].keys())\n",
    "#         append_to.append(act_speakers)"
   ]
  },
  {
   "cell_type": "code",
   "execution_count": null,
   "id": "8eaa8e82-c65e-42c0-9409-4337eafb068f",
   "metadata": {},
   "outputs": [],
   "source": []
  },
  {
   "cell_type": "code",
   "execution_count": null,
   "id": "cf2b7c40-d8bf-4b11-b29c-c52064e08808",
   "metadata": {},
   "outputs": [],
   "source": []
  },
  {
   "cell_type": "code",
   "execution_count": null,
   "id": "93c64b26-bbca-418b-a291-0ce9cfa59558",
   "metadata": {},
   "outputs": [],
   "source": []
  },
  {
   "cell_type": "code",
   "execution_count": 113,
   "id": "8213e302-9167-4c32-95d9-14923b40875b",
   "metadata": {},
   "outputs": [],
   "source": [
    "top_50 = set(sorted_speakers[:50])"
   ]
  },
  {
   "cell_type": "code",
   "execution_count": 115,
   "id": "7e2c47b6-e430-4c22-8cbd-ce5e09509f9b",
   "metadata": {},
   "outputs": [],
   "source": [
    "items = []\n",
    "\n",
    "for ep in d:\n",
    "    # print(f'{ep}')\n",
    "    for act in d[ep]:\n",
    "        # print(f'{act}')\n",
    "        act_speakers = set(d[ep][act].keys())\n",
    "        act_speakers = act_speakers.intersection(top_50)\n",
    "        items.append(act_speakers)\n",
    "    # print()"
   ]
  },
  {
   "cell_type": "code",
   "execution_count": 116,
   "id": "076ea5b1-1709-40d5-8972-ac83c915b53d",
   "metadata": {},
   "outputs": [
    {
     "data": {
      "text/plain": [
       "729"
      ]
     },
     "execution_count": 116,
     "metadata": {},
     "output_type": "execute_result"
    }
   ],
   "source": [
    "sum(['SISKO' in i for i in items])"
   ]
  },
  {
   "cell_type": "code",
   "execution_count": 117,
   "id": "4905b575-bd1b-49fe-97ed-47801013bcc7",
   "metadata": {},
   "outputs": [],
   "source": [
    "speaker_occurences = {}\n",
    "\n",
    "for each_speaker in top_50:\n",
    "    speaker_occurences[each_speaker] = sum(each_speaker in i for i in items)"
   ]
  },
  {
   "cell_type": "code",
   "execution_count": 119,
   "id": "3fd9132c-e319-4ffc-a44a-72c045909438",
   "metadata": {},
   "outputs": [],
   "source": [
    "import itertools"
   ]
  },
  {
   "cell_type": "code",
   "execution_count": 126,
   "id": "256db5d8-493f-434e-b5fd-8eee0a2a1afc",
   "metadata": {},
   "outputs": [],
   "source": [
    "def check_multi_membership(members, item):\n",
    "    return all(m in item for m in members)"
   ]
  },
  {
   "cell_type": "code",
   "execution_count": 136,
   "id": "982eb43a-d727-4d35-b8c7-23e97498b09f",
   "metadata": {},
   "outputs": [
    {
     "data": {
      "text/plain": [
       "180"
      ]
     },
     "execution_count": 136,
     "metadata": {},
     "output_type": "execute_result"
    }
   ],
   "source": [
    "sum(check_multi_membership(['JAKE', 'SISKO'], i) for i in items)"
   ]
  },
  {
   "cell_type": "code",
   "execution_count": 137,
   "id": "8e9c98c2-759e-4c62-b802-8d271618a5a6",
   "metadata": {},
   "outputs": [],
   "source": [
    "pairs = itertools.combinations(top_50, 2)\n",
    "pair_occurences = {}\n",
    "\n",
    "for pair in pairs:\n",
    "    pair_occurences[pair] = sum(check_multi_membership(pair, i) for i in items)"
   ]
  },
  {
   "cell_type": "code",
   "execution_count": 146,
   "id": "d734fea7-3cd4-4346-b1fc-14419a9bfff9",
   "metadata": {},
   "outputs": [
    {
     "data": {
      "text/plain": [
       "[(('SISKO', 'KIRA'), 512),\n",
       " (('SISKO', \"O'BRIEN\"), 459),\n",
       " (('SISKO', 'BASHIR'), 454),\n",
       " (('SISKO', 'DAX'), 438),\n",
       " (('SISKO', 'ODO'), 407),\n",
       " (('KIRA', \"O'BRIEN\"), 407),\n",
       " (('BASHIR', \"O'BRIEN\"), 399),\n",
       " (('BASHIR', 'KIRA'), 382),\n",
       " (('KIRA', 'DAX'), 377),\n",
       " (('KIRA', 'ODO'), 375),\n",
       " (('DAX', \"O'BRIEN\"), 352),\n",
       " (('BASHIR', 'DAX'), 338),\n",
       " (('BASHIR', 'ODO'), 325),\n",
       " (('ODO', \"O'BRIEN\"), 317),\n",
       " (('ODO', 'DAX'), 285),\n",
       " (('SISKO', 'QUARK'), 277),\n",
       " (('QUARK', 'KIRA'), 258),\n",
       " (('QUARK', 'ODO'), 247),\n",
       " (('BASHIR', 'QUARK'), 238),\n",
       " (('QUARK', \"O'BRIEN\"), 236),\n",
       " (('SISKO', 'WORF'), 231),\n",
       " (('QUARK', 'DAX'), 219),\n",
       " (('KIRA', 'WORF'), 201),\n",
       " (('WORF', \"O'BRIEN\"), 198),\n",
       " (('BASHIR', 'WORF'), 193)]"
      ]
     },
     "execution_count": 146,
     "metadata": {},
     "output_type": "execute_result"
    }
   ],
   "source": [
    "# https://www.freecodecamp.org/news/sort-dictionary-by-value-in-python/#howtosortadictionarywiththesortedmethod\n",
    "sorted(pair_occurences.items(), key=lambda x:x[1], reverse=True)[:25]"
   ]
  },
  {
   "cell_type": "code",
   "execution_count": null,
   "id": "5e7bfef4-c7e7-497d-949a-deb06771c670",
   "metadata": {},
   "outputs": [],
   "source": [
    "# https://www-users.cse.umn.edu/~kumar001/dmbook/dmslides/chap6_basic_association_analysis.pdf"
   ]
  },
  {
   "cell_type": "code",
   "execution_count": 147,
   "id": "6631d730-dfa4-494a-9010-ff65877132d0",
   "metadata": {},
   "outputs": [],
   "source": [
    "triads = itertools.combinations(top_50, 3)\n",
    "triad_occurences = {}\n",
    "\n",
    "for triad in triads:\n",
    "    triad_occurences[triad] = sum(check_multi_membership(triad, i) for i in items)"
   ]
  },
  {
   "cell_type": "code",
   "execution_count": 149,
   "id": "6c19f7e9-3b60-41b3-a005-62e3cadbc077",
   "metadata": {},
   "outputs": [
    {
     "data": {
      "text/plain": [
       "[(('SISKO', 'KIRA', \"O'BRIEN\"), 361),\n",
       " (('SISKO', 'KIRA', 'DAX'), 339),\n",
       " (('SISKO', 'BASHIR', 'KIRA'), 338),\n",
       " (('SISKO', 'BASHIR', \"O'BRIEN\"), 326),\n",
       " (('SISKO', 'DAX', \"O'BRIEN\"), 318),\n",
       " (('SISKO', 'KIRA', 'ODO'), 315),\n",
       " (('SISKO', 'BASHIR', 'DAX'), 297),\n",
       " (('BASHIR', 'KIRA', \"O'BRIEN\"), 292),\n",
       " (('KIRA', 'DAX', \"O'BRIEN\"), 283),\n",
       " (('SISKO', 'BASHIR', 'ODO'), 279),\n",
       " (('SISKO', 'ODO', \"O'BRIEN\"), 267),\n",
       " (('SISKO', 'ODO', 'DAX'), 255),\n",
       " (('BASHIR', 'KIRA', 'ODO'), 253),\n",
       " (('BASHIR', 'KIRA', 'DAX'), 253),\n",
       " (('BASHIR', 'DAX', \"O'BRIEN\"), 248),\n",
       " (('KIRA', 'ODO', \"O'BRIEN\"), 246),\n",
       " (('BASHIR', 'ODO', \"O'BRIEN\"), 234),\n",
       " (('KIRA', 'ODO', 'DAX'), 229),\n",
       " (('SISKO', 'QUARK', 'KIRA'), 209),\n",
       " (('BASHIR', 'ODO', 'DAX'), 200),\n",
       " (('ODO', 'DAX', \"O'BRIEN\"), 198),\n",
       " (('SISKO', 'QUARK', 'ODO'), 181),\n",
       " (('SISKO', 'QUARK', \"O'BRIEN\"), 179),\n",
       " (('SISKO', 'BASHIR', 'QUARK'), 177),\n",
       " (('QUARK', 'KIRA', 'ODO'), 177),\n",
       " (('QUARK', 'KIRA', \"O'BRIEN\"), 176),\n",
       " (('SISKO', 'QUARK', 'DAX'), 174),\n",
       " (('BASHIR', 'QUARK', \"O'BRIEN\"), 168),\n",
       " (('QUARK', 'KIRA', 'DAX'), 167),\n",
       " (('SISKO', 'KIRA', 'WORF'), 163),\n",
       " (('SISKO', 'WORF', \"O'BRIEN\"), 161),\n",
       " (('BASHIR', 'QUARK', 'KIRA'), 161),\n",
       " (('BASHIR', 'QUARK', 'ODO'), 158),\n",
       " (('SISKO', 'BASHIR', 'WORF'), 154),\n",
       " (('BASHIR', 'WORF', \"O'BRIEN\"), 152),\n",
       " (('QUARK', 'ODO', \"O'BRIEN\"), 151),\n",
       " (('SISKO', 'WORF', 'DAX'), 147),\n",
       " (('QUARK', 'DAX', \"O'BRIEN\"), 147),\n",
       " (('BASHIR', 'QUARK', 'DAX'), 146),\n",
       " (('QUARK', 'ODO', 'DAX'), 143),\n",
       " (('KIRA', 'WORF', \"O'BRIEN\"), 140),\n",
       " (('SISKO', 'WORF', 'ODO'), 135),\n",
       " (('BASHIR', 'KIRA', 'WORF'), 134),\n",
       " (('WORF', 'DAX', \"O'BRIEN\"), 130),\n",
       " (('BASHIR', 'WORF', 'DAX'), 121),\n",
       " (('KIRA', 'WORF', 'DAX'), 121),\n",
       " (('JAKE', 'SISKO', 'KIRA'), 120),\n",
       " (('KIRA', 'WORF', 'ODO'), 119),\n",
       " (('WORF', 'ODO', \"O'BRIEN\"), 114),\n",
       " (('JAKE', 'SISKO', 'BASHIR'), 109)]"
      ]
     },
     "execution_count": 149,
     "metadata": {},
     "output_type": "execute_result"
    }
   ],
   "source": [
    "sorted(triad_occurences.items(), key=lambda x:x[1], reverse=True)[:50]"
   ]
  },
  {
   "cell_type": "code",
   "execution_count": 152,
   "id": "deb9d51a-bf01-48a9-ab07-241fdb483cdd",
   "metadata": {},
   "outputs": [],
   "source": [
    "# fours = itertools.combinations(top_50, 4)\n",
    "# fours_occurences = {}\n",
    "\n",
    "# for four in fours:\n",
    "#     fours_occurences[four] = sum(check_multi_membership(four, i) for i in items)\n",
    "    \n",
    "# sorted(fours_occurences.items(), key=lambda x:x[1], reverse=True)[:50]"
   ]
  },
  {
   "cell_type": "code",
   "execution_count": null,
   "id": "5d268352-2e42-4e71-b044-9db4d9550662",
   "metadata": {},
   "outputs": [],
   "source": [
    "pair_occurences, speaker_occurences"
   ]
  },
  {
   "cell_type": "code",
   "execution_count": 154,
   "id": "0588a369-3ad7-4649-b1db-ee6f52fadf48",
   "metadata": {},
   "outputs": [],
   "source": [
    "def create_rules_from_counts(pair_counts, speaker_counts):\n",
    "    rules = {}\n",
    "    for (a, b), count in pair_counts.items():\n",
    "        conf_ab = count / speaker_counts[a]\n",
    "        conf_ba = count / speaker_counts[b]\n",
    "        rules[(a, b)] = conf_ab\n",
    "        rules[(b, a)] = conf_ba\n",
    "    return rules\n",
    "\n",
    "rules = create_rules_from_counts(pair_occurences, speaker_occurences)"
   ]
  },
  {
   "cell_type": "code",
   "execution_count": 160,
   "id": "5d47e8e0-3e48-42bd-a410-879749629f48",
   "metadata": {},
   "outputs": [
    {
     "data": {
      "text/plain": [
       "[(('MORA', 'ODO'), 1.0),\n",
       " (('GHEMOR', 'KIRA'), 1.0),\n",
       " (('MELORA', 'BASHIR'), 1.0),\n",
       " (('MELORA', 'DAX'), 1.0),\n",
       " (('TAIN', 'GARAK'), 1.0),\n",
       " (('NATIMA', 'GARAK'), 1.0),\n",
       " (('JENNIFER', 'SISKO'), 1.0),\n",
       " ((\"CH'POK\", 'SISKO'), 1.0),\n",
       " (('JOSEPH', 'SISKO'), 1.0),\n",
       " (('LWAXANA', 'ODO'), 1.0),\n",
       " (('JACK', 'BASHIR'), 1.0),\n",
       " (('PEL', 'ROM'), 1.0),\n",
       " (('BAREIL', 'KIRA'), 1.0),\n",
       " (('SLOAN', 'BASHIR'), 1.0),\n",
       " (('ISHKA', 'QUARK'), 1.0),\n",
       " (('NATIMA', 'QUARK'), 1.0),\n",
       " (('BILBY', \"O'BRIEN\"), 1.0),\n",
       " ((\"CH'POK\", 'WORF'), 1.0),\n",
       " (('ZEK', 'QUARK'), 1.0),\n",
       " (('PEL', 'QUARK'), 1.0),\n",
       " (('BRUNT', 'QUARK'), 1.0),\n",
       " (('PEL', 'ZEK'), 1.0),\n",
       " (('ARISSA', 'ODO'), 1.0),\n",
       " (('KEIKO', \"O'BRIEN\"), 0.9672131147540983),\n",
       " (('GUL DUKAT', 'SISKO'), 0.9411764705882353),\n",
       " (('ISHKA', 'ROM'), 0.9375),\n",
       " (('ZEK', 'ROM'), 0.9375),\n",
       " (('KASIDY', 'SISKO'), 0.9347826086956522),\n",
       " (('SHAKAAR', 'KIRA'), 0.9285714285714286),\n",
       " (('BRUNT', 'ROM'), 0.9259259259259259),\n",
       " (('EDDINGTON', 'SISKO'), 0.918918918918919),\n",
       " (('JACK', \"O'BRIEN\"), 0.9166666666666666),\n",
       " (('ROSS', 'SISKO'), 0.9117647058823529),\n",
       " (('JENNIFER', \"O'BRIEN\"), 0.9090909090909091),\n",
       " (('GHEMOR', 'SISKO'), 0.9),\n",
       " (('ROM', 'QUARK'), 0.8656716417910447),\n",
       " (('JAKE', 'SISKO'), 0.8571428571428571),\n",
       " (('ZIYAL', 'KIRA'), 0.8518518518518519),\n",
       " (('LEETA', 'QUARK'), 0.851063829787234),\n",
       " (('MARTOK', 'WORF'), 0.8493150684931506),\n",
       " (('DAX', 'SISKO'), 0.8342857142857143),\n",
       " (('MELORA', 'QUARK'), 0.8333333333333334),\n",
       " (('NATIMA', 'SISKO'), 0.8333333333333334),\n",
       " (('MARTUS', 'BASHIR'), 0.8333333333333334),\n",
       " (('MARTUS', \"O'BRIEN\"), 0.8333333333333334),\n",
       " (('WEYOUN', 'SISKO'), 0.8194444444444444),\n",
       " (('JENNIFER', 'KIRA'), 0.8181818181818182),\n",
       " (('GOWRON', 'BASHIR'), 0.8125),\n",
       " (('GOWRON', \"O'BRIEN\"), 0.8125),\n",
       " (('KIRA', 'SISKO'), 0.8114104595879557),\n",
       " (('MORA', 'KIRA'), 0.8),\n",
       " (('FEMALE SHAPE-SHIFTER', 'SISKO'), 0.8),\n",
       " ((\"CH'POK\", 'ODO'), 0.8),\n",
       " ((\"O'BRIEN\", 'SISKO'), 0.7913793103448276),\n",
       " (('LEETA', 'ROM'), 0.7872340425531915),\n",
       " (('BASHIR', 'SISKO'), 0.7854671280276817),\n",
       " (('COMPUTER VOICE', 'SISKO'), 0.7818181818181819),\n",
       " (('ODO', 'SISKO'), 0.7796934865900383),\n",
       " (('LWAXANA', 'SISKO'), 0.7777777777777778),\n",
       " (('LWAXANA', 'KIRA'), 0.7777777777777778),\n",
       " (('DAMAR', 'KIRA'), 0.7746478873239436),\n",
       " (('DUKAT', 'KIRA'), 0.7692307692307693),\n",
       " (('FEMALE SHAPE-SHIFTER', 'KIRA'), 0.7666666666666667),\n",
       " (('ROSS', 'KIRA'), 0.7647058823529411),\n",
       " (('GUL DUKAT', 'KIRA'), 0.7647058823529411),\n",
       " (('NOG', 'SISKO'), 0.7612903225806451),\n",
       " (('GARAK', 'SISKO'), 0.7610062893081762),\n",
       " (('DUKAT', 'SISKO'), 0.7596153846153846),\n",
       " (('EDDINGTON', 'KIRA'), 0.7567567567567568),\n",
       " (('GOWRON', 'WORF'), 0.75),\n",
       " (('WORF', 'SISKO'), 0.7333333333333333),\n",
       " (('WINN', 'SISKO'), 0.7307692307692307),\n",
       " (('WINN', 'KIRA'), 0.7307692307692307),\n",
       " (('LEETA', 'BASHIR'), 0.723404255319149),\n",
       " (('LWAXANA', \"O'BRIEN\"), 0.7222222222222222),\n",
       " (('ODO', 'KIRA'), 0.7183908045977011),\n",
       " (('DAX', 'KIRA'), 0.7180952380952381),\n",
       " (('SHAKAAR', 'ODO'), 0.7142857142857143),\n",
       " (('GARAK', 'BASHIR'), 0.7044025157232704),\n",
       " (('SISKO', 'KIRA'), 0.7023319615912208),\n",
       " ((\"O'BRIEN\", 'KIRA'), 0.7017241379310345),\n",
       " (('MORA', \"O'BRIEN\"), 0.7),\n",
       " (('TAIN', 'SISKO'), 0.7),\n",
       " (('TAIN', 'BASHIR'), 0.7),\n",
       " (('FEMALE SHAPE-SHIFTER', 'ODO'), 0.7),\n",
       " (('MARTOK', 'SISKO'), 0.6986301369863014),\n",
       " (('VIC', 'BASHIR'), 0.6956521739130435),\n",
       " (('JOSEPH', 'JAKE'), 0.6923076923076923),\n",
       " (('BASHIR', \"O'BRIEN\"), 0.6903114186851211),\n",
       " (('DAMAR', 'SISKO'), 0.6901408450704225),\n",
       " ((\"O'BRIEN\", 'BASHIR'), 0.6879310344827586),\n",
       " (('GOWRON', 'SISKO'), 0.6875),\n",
       " (('GOWRON', 'KIRA'), 0.6875),\n",
       " (('COMPUTER VOICE', 'KIRA'), 0.6818181818181818),\n",
       " (('ROSS', 'BASHIR'), 0.6764705882352942),\n",
       " (('DAMAR', 'WEYOUN'), 0.676056338028169),\n",
       " (('KASIDY', 'KIRA'), 0.6739130434782609),\n",
       " (('DAX', \"O'BRIEN\"), 0.6704761904761904),\n",
       " (('LWAXANA', 'JAKE'), 0.6666666666666666),\n",
       " (('ZIYAL', 'DUKAT'), 0.6666666666666666),\n",
       " (('KOR', 'WORF'), 0.6666666666666666),\n",
       " (('KOR', 'DAX'), 0.6666666666666666),\n",
       " (('WEYOUN', 'DAMAR'), 0.6666666666666666),\n",
       " (('ZIYAL', 'SISKO'), 0.6666666666666666),\n",
       " (('ZIYAL', 'WORF'), 0.6666666666666666),\n",
       " (('MARTUS', 'ROM'), 0.6666666666666666),\n",
       " (('BAREIL', 'ODO'), 0.6666666666666666),\n",
       " (('BAREIL', 'DAX'), 0.6666666666666666),\n",
       " (('NATIMA', 'ODO'), 0.6666666666666666),\n",
       " (('MARTUS', 'QUARK'), 0.6666666666666666),\n",
       " (('MARTUS', 'DAX'), 0.6666666666666666),\n",
       " (('QUARK', 'SISKO'), 0.6610978520286396),\n",
       " (('BASHIR', 'KIRA'), 0.6608996539792388),\n",
       " (('EZRI', 'BASHIR'), 0.65625),\n",
       " (('COMPUTER VOICE', 'BASHIR'), 0.6545454545454545),\n",
       " (('GARAK', 'KIRA'), 0.6540880503144654),\n",
       " (('EDDINGTON', 'DAX'), 0.6486486486486487),\n",
       " (('KIRA', \"O'BRIEN\"), 0.6450079239302694),\n",
       " (('MARTOK', 'KIRA'), 0.6438356164383562),\n",
       " (('DAX', 'BASHIR'), 0.6438095238095238),\n",
       " (('SHAKAAR', \"O'BRIEN\"), 0.6428571428571429),\n",
       " (('WORF', 'KIRA'), 0.638095238095238),\n",
       " (('JENNIFER', 'DAX'), 0.6363636363636364),\n",
       " (('COMPUTER VOICE', \"O'BRIEN\"), 0.6363636363636364),\n",
       " (('EZRI', 'SISKO'), 0.6354166666666666),\n",
       " (('FEMALE SHAPE-SHIFTER', 'WEYOUN'), 0.6333333333333333),\n",
       " (('SISKO', \"O'BRIEN\"), 0.6296296296296297),\n",
       " (('WORF', \"O'BRIEN\"), 0.6285714285714286),\n",
       " (('COMPUTER VOICE', 'DAX'), 0.6272727272727273),\n",
       " (('GOWRON', 'ODO'), 0.625),\n",
       " (('WEYOUN', 'KIRA'), 0.625),\n",
       " (('ISHKA', 'BRUNT'), 0.625),\n",
       " (('KEIKO', 'BASHIR'), 0.6229508196721312),\n",
       " (('SISKO', 'BASHIR'), 0.6227709190672154),\n",
       " (('ODO', 'BASHIR'), 0.6226053639846744),\n",
       " (('EDDINGTON', 'ODO'), 0.6216216216216216),\n",
       " (('JAKE', 'KIRA'), 0.6190476190476191),\n",
       " (('COMPUTER VOICE', 'ODO'), 0.6181818181818182),\n",
       " (('ROSS', \"O'BRIEN\"), 0.6176470588235294),\n",
       " (('MARTOK', \"O'BRIEN\"), 0.6164383561643836),\n",
       " (('QUARK', 'KIRA'), 0.6157517899761337),\n",
       " (('JOSEPH', 'KIRA'), 0.6153846153846154),\n",
       " (('WORF', 'BASHIR'), 0.6126984126984127),\n",
       " (('LWAXANA', 'BASHIR'), 0.6111111111111112),\n",
       " (('LWAXANA', 'DAX'), 0.6111111111111112),\n",
       " (('KASIDY', 'BASHIR'), 0.6086956521739131),\n",
       " (('ODO', \"O'BRIEN\"), 0.60727969348659),\n",
       " ((\"O'BRIEN\", 'DAX'), 0.6068965517241379),\n",
       " (('KEIKO', 'SISKO'), 0.6065573770491803),\n",
       " (('DAMAR', \"O'BRIEN\"), 0.6056338028169014),\n",
       " (('KIRA', 'BASHIR'), 0.6053882725832013),\n",
       " (('WORF', 'DAX'), 0.6031746031746031),\n",
       " (('MARTOK', 'BASHIR'), 0.6027397260273972),\n",
       " (('SISKO', 'DAX'), 0.6008230452674898),\n",
       " (('MORA', 'SISKO'), 0.6),\n",
       " (('TAIN', 'ODO'), 0.6),\n",
       " (('TAIN', 'DAX'), 0.6),\n",
       " (('FEMALE SHAPE-SHIFTER', 'BASHIR'), 0.6),\n",
       " (('FEMALE SHAPE-SHIFTER', \"O'BRIEN\"), 0.6),\n",
       " (('KIRA', 'DAX'), 0.5974643423137876),\n",
       " (('WEYOUN', \"O'BRIEN\"), 0.5972222222222222),\n",
       " (('KIRA', 'ODO'), 0.5942947702060222),\n",
       " (('NOG', \"O'BRIEN\"), 0.5935483870967742),\n",
       " (('BAREIL', 'SISKO'), 0.5925925925925926),\n",
       " (('GARAK', \"O'BRIEN\"), 0.5911949685534591),\n",
       " (('KEIKO', 'KIRA'), 0.5901639344262295),\n",
       " (('QUARK', 'ODO'), 0.5894988066825776),\n",
       " (('KASIDY', 'WORF'), 0.5869565217391305),\n",
       " (('BASHIR', 'DAX'), 0.5847750865051903),\n",
       " (('JAKE', 'ODO'), 0.580952380952381),\n",
       " (('NOG', 'KIRA'), 0.5806451612903226),\n",
       " (('DAMAR', 'DUKAT'), 0.5774647887323944),\n",
       " (('DAMAR', 'WORF'), 0.5774647887323944),\n",
       " (('LEETA', \"O'BRIEN\"), 0.574468085106383),\n",
       " (('KEIKO', 'ODO'), 0.5737704918032787),\n",
       " (('WEYOUN', 'WORF'), 0.5694444444444444),\n",
       " (('QUARK', 'BASHIR'), 0.568019093078759),\n",
       " (('EDDINGTON', \"O'BRIEN\"), 0.5675675675675675),\n",
       " (('FEMALE SHAPE-SHIFTER', 'WORF'), 0.5666666666666667),\n",
       " (('VIC', 'ODO'), 0.5652173913043478),\n",
       " (('DAMAR', 'BASHIR'), 0.5633802816901409),\n",
       " (('QUARK', \"O'BRIEN\"), 0.5632458233890215),\n",
       " (('GOWRON', 'MARTOK'), 0.5625),\n",
       " (('EZRI', 'WORF'), 0.5625),\n",
       " (('EZRI', \"O'BRIEN\"), 0.5625),\n",
       " (('ISHKA', 'ZEK'), 0.5625),\n",
       " (('BASHIR', 'ODO'), 0.5622837370242214),\n",
       " (('ROM', 'SISKO'), 0.5597014925373134),\n",
       " (('ROSS', 'ODO'), 0.5588235294117647),\n",
       " (('SISKO', 'ODO'), 0.5582990397805213),\n",
       " (('KEIKO', 'DAX'), 0.5573770491803278),\n",
       " (('ZIYAL', 'DAX'), 0.5555555555555556),\n",
       " (('JAKE', 'BASHIR'), 0.5523809523809524),\n",
       " (('GARAK', 'ODO'), 0.5471698113207547),\n",
       " ((\"O'BRIEN\", 'ODO'), 0.5465517241379311),\n",
       " (('ODO', 'DAX'), 0.5459770114942529),\n",
       " (('JENNIFER', 'GARAK'), 0.5454545454545454),\n",
       " (('JENNIFER', 'BASHIR'), 0.5454545454545454),\n",
       " (('KASIDY', 'ODO'), 0.5434782608695652),\n",
       " (('KASIDY', \"O'BRIEN\"), 0.5434782608695652),\n",
       " (('DAX', 'ODO'), 0.5428571428571428),\n",
       " (('JAKE', \"O'BRIEN\"), 0.5333333333333333),\n",
       " (('FEMALE SHAPE-SHIFTER', 'GARAK'), 0.5333333333333333),\n",
       " (('ROM', \"O'BRIEN\"), 0.5298507462686567),\n",
       " (('GUL DUKAT', 'BASHIR'), 0.5294117647058824),\n",
       " (('WEYOUN', 'DUKAT'), 0.5277777777777778),\n",
       " (('WEYOUN', 'BASHIR'), 0.5277777777777778),\n",
       " (('QUARK', 'DAX'), 0.522673031026253),\n",
       " (('VIC', 'SISKO'), 0.5217391304347826),\n",
       " (('VIC', 'NOG'), 0.5217391304347826),\n",
       " (('VIC', 'KIRA'), 0.5217391304347826),\n",
       " (('WINN', 'BASHIR'), 0.5192307692307693),\n",
       " (('ZIYAL', 'GARAK'), 0.5185185185185185),\n",
       " (('ZIYAL', \"O'BRIEN\"), 0.5185185185185185),\n",
       " (('WORF', 'ODO'), 0.5174603174603175),\n",
       " (('NOG', 'JAKE'), 0.5161290322580645),\n",
       " (('EDDINGTON', 'BASHIR'), 0.5135135135135135),\n",
       " (('NOG', 'BASHIR'), 0.5096774193548387),\n",
       " (('NOG', 'QUARK'), 0.5032258064516129),\n",
       " (('MORA', 'BASHIR'), 0.5),\n",
       " (('MORA', 'SHAKAAR'), 0.5),\n",
       " (('ROSS', 'WORF'), 0.5),\n",
       " (('GOWRON', 'GARAK'), 0.5),\n",
       " (('JAKE', 'QUARK'), 0.5),\n",
       " (('GHEMOR', 'DUKAT'), 0.5),\n",
       " (('GHEMOR', 'BASHIR'), 0.5),\n",
       " (('GHEMOR', 'ODO'), 0.5),\n",
       " (('MELORA', 'SISKO'), 0.5),\n",
       " (('MELORA', 'ODO'), 0.5),\n",
       " (('MELORA', \"O'BRIEN\"), 0.5),\n",
       " (('MARTUS', 'SISKO'), 0.5),\n",
       " (('SHAKAAR', 'SISKO'), 0.5),\n",
       " (('TAIN', 'KIRA'), 0.5),\n",
       " (('TAIN', \"O'BRIEN\"), 0.5),\n",
       " (('ARISSA', 'BASHIR'), 0.5),\n",
       " (('FEMALE SHAPE-SHIFTER', 'DAMAR'), 0.5),\n",
       " (('NATIMA', 'KIRA'), 0.5),\n",
       " (('NATIMA', 'DAX'), 0.5),\n",
       " (('NATIMA', \"O'BRIEN\"), 0.5),\n",
       " (('MARTUS', 'KIRA'), 0.5),\n",
       " (('MARTUS', 'ODO'), 0.5),\n",
       " (('ARISSA', 'QUARK'), 0.5),\n",
       " (('ARISSA', \"O'BRIEN\"), 0.5),\n",
       " (('PEL', 'KIRA'), 0.5),\n",
       " (('PEL', 'DAX'), 0.5),\n",
       " (('NOG', 'ODO'), 0.4967741935483871),\n",
       " (('GARAK', 'DAX'), 0.49056603773584906),\n",
       " (('EZRI', 'QUARK'), 0.4895833333333333),\n",
       " (('LEETA', 'SISKO'), 0.48936170212765956),\n",
       " (('ROM', 'BASHIR'), 0.48507462686567165),\n",
       " (('BAREIL', \"O'BRIEN\"), 0.48148148148148145),\n",
       " (('DUKAT', 'BASHIR'), 0.4807692307692308),\n",
       " (('DUKAT', 'WORF'), 0.4807692307692308),\n",
       " (('ROM', 'KIRA'), 0.47761194029850745),\n",
       " (('ODO', 'QUARK'), 0.4731800766283525),\n",
       " (('ROSS', 'DAMAR'), 0.47058823529411764),\n",
       " (('EZRI', 'KIRA'), 0.46875),\n",
       " (('LEETA', 'WORF'), 0.46808510638297873),\n",
       " (('SLOAN', 'SISKO'), 0.4666666666666667),\n",
       " (('SLOAN', \"O'BRIEN\"), 0.4666666666666667),\n",
       " (('ROM', 'ODO'), 0.4626865671641791),\n",
       " (('WINN', \"O'BRIEN\"), 0.46153846153846156),\n",
       " (('JOSEPH', 'ODO'), 0.46153846153846156),\n",
       " (('JOSEPH', \"O'BRIEN\"), 0.46153846153846156),\n",
       " (('WEYOUN', 'ODO'), 0.4583333333333333),\n",
       " (('JENNIFER', 'JAKE'), 0.45454545454545453),\n",
       " (('JAKE', 'DAX'), 0.4523809523809524),\n",
       " (('DAMAR', 'ODO'), 0.4507042253521127),\n",
       " (('LEETA', 'NOG'), 0.44680851063829785),\n",
       " (('DUKAT', 'DAX'), 0.4423076923076923),\n",
       " (('DUKAT', \"O'BRIEN\"), 0.4423076923076923),\n",
       " (('MARTOK', 'DAX'), 0.4383561643835616),\n",
       " (('GOWRON', 'DAX'), 0.4375),\n",
       " (('COMPUTER VOICE', 'QUARK'), 0.43636363636363634),\n",
       " (('VIC', 'EZRI'), 0.43478260869565216),\n",
       " (('VIC', 'QUARK'), 0.43478260869565216),\n",
       " (('VIC', \"O'BRIEN\"), 0.43478260869565216),\n",
       " (('FEMALE SHAPE-SHIFTER', 'DUKAT'), 0.43333333333333335),\n",
       " (('SHAKAAR', 'QUARK'), 0.42857142857142855),\n",
       " (('MARTOK', 'ODO'), 0.4246575342465753),\n",
       " (('WINN', 'WORF'), 0.4230769230769231),\n",
       " (('WINN', 'ODO'), 0.4230769230769231),\n",
       " (('DAX', 'QUARK'), 0.41714285714285715),\n",
       " (('JACK', 'SISKO'), 0.4166666666666667),\n",
       " (('JACK', 'EZRI'), 0.4166666666666667),\n",
       " (('JACK', 'KIRA'), 0.4166666666666667),\n",
       " (('KASIDY', 'QUARK'), 0.41304347826086957),\n",
       " (('ROSS', 'WEYOUN'), 0.4117647058823529),\n",
       " (('ROSS', 'EZRI'), 0.4117647058823529),\n",
       " (('ROSS', 'QUARK'), 0.4117647058823529),\n",
       " (('ROSS', 'MARTOK'), 0.4117647058823529),\n",
       " (('BASHIR', 'QUARK'), 0.4117647058823529),\n",
       " (('GUL DUKAT', 'ODO'), 0.4117647058823529),\n",
       " (('GUL DUKAT', \"O'BRIEN\"), 0.4117647058823529),\n",
       " (('KEIKO', 'QUARK'), 0.4098360655737705),\n",
       " (('KIRA', 'QUARK'), 0.40887480190174325),\n",
       " (('DAMAR', 'GARAK'), 0.4084507042253521),\n",
       " (('BAREIL', 'JAKE'), 0.4074074074074074),\n",
       " (('BRUNT', 'SISKO'), 0.4074074074074074),\n",
       " (('ZIYAL', 'BASHIR'), 0.4074074074074074),\n",
       " (('ZIYAL', 'DAMAR'), 0.4074074074074074),\n",
       " (('ZIYAL', 'MARTOK'), 0.4074074074074074),\n",
       " (('BAREIL', 'BASHIR'), 0.4074074074074074),\n",
       " ((\"O'BRIEN\", 'QUARK'), 0.4068965517241379),\n",
       " (('EZRI', 'ODO'), 0.40625),\n",
       " (('EDDINGTON', 'GARAK'), 0.40540540540540543),\n",
       " (('EDDINGTON', 'WORF'), 0.40540540540540543),\n",
       " (('LEETA', 'KIRA'), 0.40425531914893614),\n",
       " (('LEETA', 'DAX'), 0.40425531914893614),\n",
       " (('DUKAT', 'ODO'), 0.40384615384615385),\n",
       " (('GARAK', 'WORF'), 0.4025157232704403),\n",
       " (('MORA', 'KEIKO'), 0.4),\n",
       " (('GHEMOR', 'DAX'), 0.4),\n",
       " (('FEMALE SHAPE-SHIFTER', 'DAX'), 0.4),\n",
       " ((\"CH'POK\", 'KIRA'), 0.4),\n",
       " ((\"CH'POK\", \"O'BRIEN\"), 0.4),\n",
       " (('SLOAN', 'ODO'), 0.4),\n",
       " (('MARTOK', 'QUARK'), 0.3972602739726027),\n",
       " (('WORF', 'QUARK'), 0.3968253968253968),\n",
       " (('DUKAT', 'DAMAR'), 0.3942307692307692),\n",
       " (('NOG', 'DAX'), 0.3935483870967742),\n",
       " (('LWAXANA', 'QUARK'), 0.3888888888888889),\n",
       " (('JOSEPH', 'BASHIR'), 0.38461538461538464),\n",
       " (('ROSS', 'JAKE'), 0.38235294117647056),\n",
       " (('JAKE', 'NOG'), 0.38095238095238093),\n",
       " (('ROM', 'DAX'), 0.3805970149253731),\n",
       " (('SISKO', 'QUARK'), 0.37997256515775035),\n",
       " (('GOWRON', 'QUARK'), 0.375),\n",
       " (('ISHKA', 'SISKO'), 0.375),\n",
       " (('ZEK', 'SISKO'), 0.375),\n",
       " (('ZEK', 'BASHIR'), 0.375),\n",
       " (('ZEK', \"O'BRIEN\"), 0.375),\n",
       " (('BAREIL', 'WINN'), 0.37037037037037035),\n",
       " (('ZIYAL', 'ODO'), 0.37037037037037035),\n",
       " (('BRUNT', 'ISHKA'), 0.37037037037037035),\n",
       " (('BRUNT', 'ZEK'), 0.37037037037037035),\n",
       " (('BRUNT', 'KIRA'), 0.37037037037037035),\n",
       " (('KASIDY', 'EZRI'), 0.3695652173913043),\n",
       " (('DAMAR', 'EZRI'), 0.36619718309859156),\n",
       " (('DAMAR', 'QUARK'), 0.36619718309859156),\n",
       " (('WINN', 'DUKAT'), 0.36538461538461536),\n",
       " (('DUKAT', 'WEYOUN'), 0.36538461538461536),\n",
       " (('JENNIFER', 'WORF'), 0.36363636363636365),\n",
       " (('DAX', 'WORF'), 0.3619047619047619),\n",
       " (('LEETA', 'ODO'), 0.3617021276595745),\n",
       " (('WEYOUN', 'NOG'), 0.3611111111111111),\n",
       " (('SHAKAAR', 'MORA'), 0.35714285714285715),\n",
       " (('SHAKAAR', 'BASHIR'), 0.35714285714285715),\n",
       " (('ROSS', 'DUKAT'), 0.35294117647058826),\n",
       " (('WINN', 'DAX'), 0.34615384615384615),\n",
       " (('ZEK', 'KIRA'), 0.34375),\n",
       " (('MARTOK', 'GARAK'), 0.3424657534246575),\n",
       " ((\"O'BRIEN\", 'WORF'), 0.3413793103448276),\n",
       " (('BASHIR', 'WORF'), 0.33391003460207613),\n",
       " (('KOR', 'MARTOK'), 0.3333333333333333),\n",
       " (('WEYOUN', 'DAX'), 0.3333333333333333),\n",
       " (('ARISSA', 'SISKO'), 0.3333333333333333),\n",
       " (('PEL', 'SISKO'), 0.3333333333333333),\n",
       " (('LWAXANA', 'COMPUTER VOICE'), 0.3333333333333333),\n",
       " (('JACK', 'ODO'), 0.3333333333333333),\n",
       " (('BRUNT', 'NOG'), 0.3333333333333333),\n",
       " (('BILBY', 'BASHIR'), 0.3333333333333333),\n",
       " (('MARTUS', 'KEIKO'), 0.3333333333333333),\n",
       " (('ARISSA', 'KIRA'), 0.3333333333333333),\n",
       " (('ARISSA', 'DAX'), 0.3333333333333333),\n",
       " (('SLOAN', 'KIRA'), 0.3333333333333333),\n",
       " (('PEL', 'ODO'), 0.3333333333333333),\n",
       " (('BRUNT', \"O'BRIEN\"), 0.3333333333333333),\n",
       " (('KASIDY', 'JAKE'), 0.32608695652173914),\n",
       " (('DAMAR', 'NOG'), 0.323943661971831),\n",
       " (('ROM', 'NOG'), 0.3208955223880597),\n",
       " (('WEYOUN', 'EZRI'), 0.3194444444444444),\n",
       " (('WEYOUN', 'QUARK'), 0.3194444444444444),\n",
       " (('KIRA', 'WORF'), 0.3185419968304279),\n",
       " (('SISKO', 'WORF'), 0.3168724279835391),\n",
       " (('GARAK', 'QUARK'), 0.31446540880503143),\n",
       " (('GOWRON', 'DUKAT'), 0.3125),\n",
       " (('ISHKA', 'LEETA'), 0.3125),\n",
       " (('ZEK', 'ODO'), 0.3125),\n",
       " (('ZEK', 'BRUNT'), 0.3125),\n",
       " (('ODO', 'WORF'), 0.31226053639846746),\n",
       " (('DAMAR', 'MARTOK'), 0.30985915492957744),\n",
       " (('COMPUTER VOICE', 'JAKE'), 0.3090909090909091),\n",
       " (('DUKAT', 'QUARK'), 0.3076923076923077),\n",
       " (('JOSEPH', 'WORF'), 0.3076923076923077),\n",
       " (('JOSEPH', 'DAX'), 0.3076923076923077),\n",
       " (('MARTOK', 'JAKE'), 0.3013698630136986),\n",
       " (('MARTOK', 'DUKAT'), 0.3013698630136986),\n",
       " (('MARTOK', 'DAMAR'), 0.3013698630136986)]"
      ]
     },
     "execution_count": 160,
     "metadata": {},
     "output_type": "execute_result"
    }
   ],
   "source": [
    "def filter_rules_by_confidence(rules, threshold):\n",
    "    return {r:c for r,c in rules.items() if c > threshold}\n",
    "\n",
    "filtered_rules = filter_rules_by_confidence(rules, .3)\n",
    "sorted(filtered_rules.items(), key=lambda x:x[1], reverse=True)"
   ]
  },
  {
   "cell_type": "code",
   "execution_count": 166,
   "id": "7d7fd6a6-1724-4ddb-bcf2-1a8038e7ef83",
   "metadata": {},
   "outputs": [],
   "source": [
    "# [each for each in filtered_rules if 'GARAK' in each]"
   ]
  },
  {
   "cell_type": "code",
   "execution_count": 165,
   "id": "5f8bfd83-c6b8-4395-88b1-bcb450d7c551",
   "metadata": {},
   "outputs": [
    {
     "data": {
      "text/plain": [
       "{('GOWRON', 'GARAK'): 0.5,\n",
       " ('GARAK', 'SISKO'): 0.7610062893081762,\n",
       " ('ZIYAL', 'GARAK'): 0.5185185185185185,\n",
       " ('JENNIFER', 'GARAK'): 0.5454545454545454,\n",
       " ('TAIN', 'GARAK'): 1.0,\n",
       " ('GARAK', 'BASHIR'): 0.7044025157232704,\n",
       " ('DAMAR', 'GARAK'): 0.4084507042253521,\n",
       " ('FEMALE SHAPE-SHIFTER', 'GARAK'): 0.5333333333333333,\n",
       " ('NATIMA', 'GARAK'): 1.0,\n",
       " ('GARAK', 'QUARK'): 0.31446540880503143,\n",
       " ('EDDINGTON', 'GARAK'): 0.40540540540540543,\n",
       " ('GARAK', 'KIRA'): 0.6540880503144654,\n",
       " ('GARAK', 'WORF'): 0.4025157232704403,\n",
       " ('GARAK', 'ODO'): 0.5471698113207547,\n",
       " ('MARTOK', 'GARAK'): 0.3424657534246575,\n",
       " ('GARAK', 'DAX'): 0.49056603773584906,\n",
       " ('GARAK', \"O'BRIEN\"): 0.5911949685534591}"
      ]
     },
     "execution_count": 165,
     "metadata": {},
     "output_type": "execute_result"
    }
   ],
   "source": [
    "{k: v for k, v in filtered_rules.items() if 'GARAK' in k}"
   ]
  },
  {
   "cell_type": "code",
   "execution_count": 167,
   "id": "4df12b41-ba38-4a39-933d-00466c5cbc5b",
   "metadata": {},
   "outputs": [
    {
     "data": {
      "text/plain": [
       "{('MORA', 'ODO'): 1.0,\n",
       " ('ROSS', 'ODO'): 0.5588235294117647,\n",
       " ('GOWRON', 'ODO'): 0.625,\n",
       " ('JAKE', 'ODO'): 0.580952380952381,\n",
       " ('GHEMOR', 'ODO'): 0.5,\n",
       " ('MELORA', 'ODO'): 0.5,\n",
       " ('WINN', 'ODO'): 0.4230769230769231,\n",
       " ('DUKAT', 'ODO'): 0.40384615384615385,\n",
       " ('LEETA', 'ODO'): 0.3617021276595745,\n",
       " ('WEYOUN', 'ODO'): 0.4583333333333333,\n",
       " ('GARAK', 'ODO'): 0.5471698113207547,\n",
       " ('SISKO', 'ODO'): 0.5582990397805213,\n",
       " ('ODO', 'SISKO'): 0.7796934865900383,\n",
       " ('ZIYAL', 'ODO'): 0.37037037037037035,\n",
       " ('LWAXANA', 'ODO'): 1.0,\n",
       " ('JACK', 'ODO'): 0.3333333333333333,\n",
       " ('ROM', 'ODO'): 0.4626865671641791,\n",
       " ('NOG', 'ODO'): 0.4967741935483871,\n",
       " ('EZRI', 'ODO'): 0.40625,\n",
       " ('TAIN', 'ODO'): 0.6,\n",
       " ('BAREIL', 'ODO'): 0.6666666666666666,\n",
       " ('BASHIR', 'ODO'): 0.5622837370242214,\n",
       " ('ODO', 'BASHIR'): 0.6226053639846744,\n",
       " ('DAMAR', 'ODO'): 0.4507042253521127,\n",
       " ('FEMALE SHAPE-SHIFTER', 'ODO'): 0.7,\n",
       " ('NATIMA', 'ODO'): 0.6666666666666666,\n",
       " ('KASIDY', 'ODO'): 0.5434782608695652,\n",
       " ('COMPUTER VOICE', 'ODO'): 0.6181818181818182,\n",
       " (\"CH'POK\", 'ODO'): 0.8,\n",
       " ('GUL DUKAT', 'ODO'): 0.4117647058823529,\n",
       " ('MARTUS', 'ODO'): 0.5,\n",
       " ('QUARK', 'ODO'): 0.5894988066825776,\n",
       " ('ODO', 'QUARK'): 0.4731800766283525,\n",
       " ('ZEK', 'ODO'): 0.3125,\n",
       " ('ARISSA', 'ODO'): 1.0,\n",
       " ('EDDINGTON', 'ODO'): 0.6216216216216216,\n",
       " ('JOSEPH', 'ODO'): 0.46153846153846156,\n",
       " ('VIC', 'ODO'): 0.5652173913043478,\n",
       " ('KIRA', 'ODO'): 0.5942947702060222,\n",
       " ('ODO', 'KIRA'): 0.7183908045977011,\n",
       " ('WORF', 'ODO'): 0.5174603174603175,\n",
       " ('ODO', 'WORF'): 0.31226053639846746,\n",
       " ('PEL', 'ODO'): 0.3333333333333333,\n",
       " ('KEIKO', 'ODO'): 0.5737704918032787,\n",
       " ('SLOAN', 'ODO'): 0.4,\n",
       " ('MARTOK', 'ODO'): 0.4246575342465753,\n",
       " ('SHAKAAR', 'ODO'): 0.7142857142857143,\n",
       " ('ODO', 'DAX'): 0.5459770114942529,\n",
       " ('DAX', 'ODO'): 0.5428571428571428,\n",
       " ('ODO', \"O'BRIEN\"): 0.60727969348659,\n",
       " (\"O'BRIEN\", 'ODO'): 0.5465517241379311}"
      ]
     },
     "execution_count": 167,
     "metadata": {},
     "output_type": "execute_result"
    }
   ],
   "source": [
    "{k: v for k, v in filtered_rules.items() if 'ODO' in k}"
   ]
  },
  {
   "cell_type": "code",
   "execution_count": 169,
   "id": "1e955373-27fb-4ce9-b602-80969bc4cda2",
   "metadata": {},
   "outputs": [
    {
     "data": {
      "text/plain": [
       "{('COMPUTER VOICE', 'JAKE'): 0.3090909090909091,\n",
       " ('COMPUTER VOICE', 'SISKO'): 0.7818181818181819,\n",
       " ('LWAXANA', 'COMPUTER VOICE'): 0.3333333333333333,\n",
       " ('COMPUTER VOICE', 'BASHIR'): 0.6545454545454545,\n",
       " ('COMPUTER VOICE', 'QUARK'): 0.43636363636363634,\n",
       " ('COMPUTER VOICE', 'KIRA'): 0.6818181818181818,\n",
       " ('COMPUTER VOICE', 'ODO'): 0.6181818181818182,\n",
       " ('COMPUTER VOICE', 'DAX'): 0.6272727272727273,\n",
       " ('COMPUTER VOICE', \"O'BRIEN\"): 0.6363636363636364}"
      ]
     },
     "execution_count": 169,
     "metadata": {},
     "output_type": "execute_result"
    }
   ],
   "source": [
    "{k: v for k, v in filtered_rules.items() if 'COMPUTER VOICE' in k}"
   ]
  },
  {
   "cell_type": "code",
   "execution_count": 170,
   "id": "5497ad6a-dc1d-4a64-9172-32ec795ada5a",
   "metadata": {},
   "outputs": [
    {
     "data": {
      "text/plain": [
       "{('MORA', 'BASHIR'): 0.5,\n",
       " ('ROSS', 'BASHIR'): 0.6764705882352942,\n",
       " ('GOWRON', 'BASHIR'): 0.8125,\n",
       " ('JAKE', 'BASHIR'): 0.5523809523809524,\n",
       " ('GHEMOR', 'BASHIR'): 0.5,\n",
       " ('MELORA', 'BASHIR'): 1.0,\n",
       " ('WINN', 'BASHIR'): 0.5192307692307693,\n",
       " ('DUKAT', 'BASHIR'): 0.4807692307692308,\n",
       " ('LEETA', 'BASHIR'): 0.723404255319149,\n",
       " ('WEYOUN', 'BASHIR'): 0.5277777777777778,\n",
       " ('GARAK', 'BASHIR'): 0.7044025157232704,\n",
       " ('SISKO', 'BASHIR'): 0.6227709190672154,\n",
       " ('BASHIR', 'SISKO'): 0.7854671280276817,\n",
       " ('ZIYAL', 'BASHIR'): 0.4074074074074074,\n",
       " ('LWAXANA', 'BASHIR'): 0.6111111111111112,\n",
       " ('JACK', 'BASHIR'): 1.0,\n",
       " ('ROM', 'BASHIR'): 0.48507462686567165,\n",
       " ('NOG', 'BASHIR'): 0.5096774193548387,\n",
       " ('EZRI', 'BASHIR'): 0.65625,\n",
       " ('JENNIFER', 'BASHIR'): 0.5454545454545454,\n",
       " ('TAIN', 'BASHIR'): 0.7,\n",
       " ('BAREIL', 'BASHIR'): 0.4074074074074074,\n",
       " ('DAMAR', 'BASHIR'): 0.5633802816901409,\n",
       " ('FEMALE SHAPE-SHIFTER', 'BASHIR'): 0.6,\n",
       " ('BILBY', 'BASHIR'): 0.3333333333333333,\n",
       " ('KASIDY', 'BASHIR'): 0.6086956521739131,\n",
       " ('COMPUTER VOICE', 'BASHIR'): 0.6545454545454545,\n",
       " ('GUL DUKAT', 'BASHIR'): 0.5294117647058824,\n",
       " ('MARTUS', 'BASHIR'): 0.8333333333333334,\n",
       " ('BASHIR', 'QUARK'): 0.4117647058823529,\n",
       " ('QUARK', 'BASHIR'): 0.568019093078759,\n",
       " ('ZEK', 'BASHIR'): 0.375,\n",
       " ('ARISSA', 'BASHIR'): 0.5,\n",
       " ('EDDINGTON', 'BASHIR'): 0.5135135135135135,\n",
       " ('JOSEPH', 'BASHIR'): 0.38461538461538464,\n",
       " ('VIC', 'BASHIR'): 0.6956521739130435,\n",
       " ('BASHIR', 'KIRA'): 0.6608996539792388,\n",
       " ('KIRA', 'BASHIR'): 0.6053882725832013,\n",
       " ('BASHIR', 'WORF'): 0.33391003460207613,\n",
       " ('WORF', 'BASHIR'): 0.6126984126984127,\n",
       " ('KEIKO', 'BASHIR'): 0.6229508196721312,\n",
       " ('SLOAN', 'BASHIR'): 1.0,\n",
       " ('BASHIR', 'ODO'): 0.5622837370242214,\n",
       " ('ODO', 'BASHIR'): 0.6226053639846744,\n",
       " ('MARTOK', 'BASHIR'): 0.6027397260273972,\n",
       " ('SHAKAAR', 'BASHIR'): 0.35714285714285715,\n",
       " ('BASHIR', 'DAX'): 0.5847750865051903,\n",
       " ('DAX', 'BASHIR'): 0.6438095238095238,\n",
       " ('BASHIR', \"O'BRIEN\"): 0.6903114186851211,\n",
       " (\"O'BRIEN\", 'BASHIR'): 0.6879310344827586}"
      ]
     },
     "execution_count": 170,
     "metadata": {},
     "output_type": "execute_result"
    }
   ],
   "source": [
    "{k: v for k, v in filtered_rules.items() if 'BASHIR' in k}"
   ]
  },
  {
   "cell_type": "code",
   "execution_count": 173,
   "id": "fa1407ca-1dc5-424a-a693-81135133e091",
   "metadata": {},
   "outputs": [
    {
     "data": {
      "text/plain": [
       "0.19377162629757785"
      ]
     },
     "execution_count": 173,
     "metadata": {},
     "output_type": "execute_result"
    }
   ],
   "source": [
    "rules[('BASHIR', 'GARAK')]"
   ]
  },
  {
   "cell_type": "code",
   "execution_count": 174,
   "id": "5af24c50-7d16-4f84-a8f4-7dafdb999232",
   "metadata": {},
   "outputs": [
    {
     "data": {
      "text/plain": [
       "0.7044025157232704"
      ]
     },
     "execution_count": 174,
     "metadata": {},
     "output_type": "execute_result"
    }
   ],
   "source": [
    "rules[('GARAK', 'BASHIR')]"
   ]
  }
 ],
 "metadata": {
  "kernelspec": {
   "display_name": "Python 3 (ipykernel)",
   "language": "python",
   "name": "python3"
  },
  "language_info": {
   "codemirror_mode": {
    "name": "ipython",
    "version": 3
   },
   "file_extension": ".py",
   "mimetype": "text/x-python",
   "name": "python",
   "nbconvert_exporter": "python",
   "pygments_lexer": "ipython3",
   "version": "3.8.8"
  }
 },
 "nbformat": 4,
 "nbformat_minor": 5
}
